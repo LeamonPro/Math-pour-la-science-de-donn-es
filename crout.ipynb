{
 "cells": [
  {
   "cell_type": "code",
   "execution_count": 33,
   "metadata": {},
   "outputs": [],
   "source": [
    "import numpy as np\n",
    "\n",
    "def crout(A):\n",
    "\n",
    "    L = np.zeros((3, 3))\n",
    "    U = np.zeros((3, 3))\n",
    "\n",
    "    for i in range(0, 3):\n",
    "        U[i, i] = 1 \n",
    "\n",
    "        for j in range(0, 3):\n",
    "            sum0 = sum([L[j, s] * U[s, i] for s in range(0, i)]) \n",
    "            L[j, i] = A[j, i] - sum0 \n",
    "\n",
    "        for j in range(i+1, 3):\n",
    "            sum1 = sum([L[i, s] * U[s, j] for s in range(0, i)]) \n",
    "            U[i, j] = (A[i, j] - sum1) / L[i, i]\n",
    "\n",
    "    print(\"Résultats\")\n",
    "    print(\"L={}\".format(L))\n",
    "    print(\"\")\n",
    "    print(\"U={}\".format(U))\n"
   ]
  },
  {
   "cell_type": "code",
   "execution_count": 34,
   "metadata": {},
   "outputs": [
    {
     "name": "stdout",
     "output_type": "stream",
     "text": [
      "Résultats\n",
      "L=[[60.          0.          0.        ]\n",
      " [30.          5.          0.        ]\n",
      " [20.          5.          0.33333333]]\n",
      "\n",
      "U=[[1.         0.5        0.33333333]\n",
      " [0.         1.         1.        ]\n",
      " [0.         0.         1.        ]]\n"
     ]
    }
   ],
   "source": [
    "A = np.array([[60.0, 30.0, 20.0], [30.0, 20.0, 15.0], [20.0, 15.0, 12.0]])\n",
    "\n",
    "crout(A)"
   ]
  },
  {
   "cell_type": "code",
   "execution_count": null,
   "metadata": {},
   "outputs": [],
   "source": []
  }
 ],
 "metadata": {
  "interpreter": {
   "hash": "07efdcd4b820c98a756949507a4d29d7862823915ec7477944641bea022f4f62"
  },
  "kernelspec": {
   "display_name": "Python 3.8.8 ('base')",
   "language": "python",
   "name": "python3"
  },
  "language_info": {
   "codemirror_mode": {
    "name": "ipython",
    "version": 3
   },
   "file_extension": ".py",
   "mimetype": "text/x-python",
   "name": "python",
   "nbconvert_exporter": "python",
   "pygments_lexer": "ipython3",
   "version": "3.8.8"
  },
  "orig_nbformat": 4
 },
 "nbformat": 4,
 "nbformat_minor": 2
}
