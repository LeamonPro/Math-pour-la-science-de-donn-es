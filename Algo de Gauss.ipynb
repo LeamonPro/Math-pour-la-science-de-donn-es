{
 "cells": [
  {
   "cell_type": "code",
   "execution_count": 16,
   "id": "5c07929f",
   "metadata": {},
   "outputs": [],
   "source": [
    "def X(n,x):\n",
    "    for i in range(n):\n",
    "        x.append(\"x\"+str(i))\n",
    "    return x\n",
    "def saisiemat1(n):\n",
    "    l = []\n",
    "    for i in range(n):\n",
    "        l1=[]\n",
    "        for j in range(n):\n",
    "            l1.append(int(input(\"Donner A{}{} \".format(i+1, j+1))))\n",
    "        l.append(l1)\n",
    "    return l\n",
    "def saisiemat2(n):\n",
    "    l = []\n",
    "    for i in range(n):\n",
    "        l.append(int(input(\"Donner B{} \".format(i+1))))\n",
    "    return l\n",
    "\n",
    "def affiche(n,x,a,b):\n",
    "    for i in range(n):\n",
    "        print(\"{} {} = {}\".format(a[i],x[i],b[i]))\n",
    "def gauss(n,x,a,b):\n",
    "    for k in range(n-1):\n",
    "        for i in range(k+1,n):\n",
    "            p=a[i][k]/a[k][k]\n",
    "            for j in range(k,n):\n",
    "                a[i][j]=a[i][j]-p*a[k][j]\n",
    "            b[i]=b[i]-p*b[k]\n",
    "    for i in range(n): \n",
    "        b[i]=b[i]/a[i][i]\n",
    "        for j in range(n-1,i-1,-1):\n",
    "            a[i][j]=a[i][j]/a[i][i]\n",
    "    for i in range(n):\n",
    "        print(\"{} {} = {}\".format(a[i],x[i],b[i]))\n",
    "def resolution(n,x,a,b):\n",
    "    x[n-1]=b[n-1] /a[n-1][n-1]\n",
    "    for i in range(n-2,-1,-1):\n",
    "        s=b[i]\n",
    "        for j in range(i+1,n):\n",
    "            s-=a[i][j]*x[j]\n",
    "        x[i]=s/a[i][i]\n",
    "\n",
    "def output(n,x,a,b):\n",
    "        for i in range(n):\n",
    "            print(\"{} {} = {}\".format(a[i],x[i],b[i]))"
   ]
  },
  {
   "cell_type": "code",
   "execution_count": 18,
   "id": "b92d18df",
   "metadata": {},
   "outputs": [
    {
     "name": "stdout",
     "output_type": "stream",
     "text": [
      "Donner la taille du matrice3\n",
      "Donner A11 4\n",
      "Donner A12 8\n",
      "Donner A13 12\n",
      "Donner A21 3\n",
      "Donner A22 8\n",
      "Donner A23 13\n",
      "Donner A31 2\n",
      "Donner A32 9\n",
      "Donner A33 18\n",
      "Donner B1 4\n",
      "Donner B2 5\n",
      "Donner B3 11\n",
      "[4, 8, 12] x0 = 4\n",
      "[3, 8, 13] x1 = 5\n",
      "[2, 9, 18] x2 = 11\n",
      "\n",
      "[1.0, 2.0, 3.0] x0 = 1.0\n",
      "[0.0, 1.0, 2.0] x1 = 1.0\n",
      "[0.0, 0.0, 1.0] x2 = 2.0\n",
      "\n",
      "La resolution\n",
      "[1.0, 2.0, 3.0] 1.0 = 1.0\n",
      "[0.0, 1.0, 2.0] -3.0 = 1.0\n",
      "[0.0, 0.0, 1.0] 2.0 = 2.0\n"
     ]
    }
   ],
   "source": [
    "n=int(input(\"Donner la taille du matrice\"))\n",
    "x = []\n",
    "a=saisiemat1(n)\n",
    "b =saisiemat2(n)\n",
    "l=X(n,x)\n",
    "affiche(n,l,a,b)\n",
    "print(\"\")\n",
    "gauss(n,l,a,b)\n",
    "print(\"\")\n",
    "resolution(n,l,a,b)\n",
    "print(\"La resolution\")\n",
    "output(n,l,a,b)"
   ]
  }
 ],
 "metadata": {
  "kernelspec": {
   "display_name": "Python 3",
   "language": "python",
   "name": "python3"
  },
  "language_info": {
   "codemirror_mode": {
    "name": "ipython",
    "version": 3
   },
   "file_extension": ".py",
   "mimetype": "text/x-python",
   "name": "python",
   "nbconvert_exporter": "python",
   "pygments_lexer": "ipython3",
   "version": "3.8.8"
  }
 },
 "nbformat": 4,
 "nbformat_minor": 5
}
