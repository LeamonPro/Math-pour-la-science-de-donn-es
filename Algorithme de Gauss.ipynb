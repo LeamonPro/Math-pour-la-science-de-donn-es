{
 "cells": [
  {
   "cell_type": "code",
   "execution_count": 82,
   "id": "f18770c8",
   "metadata": {},
   "outputs": [],
   "source": [
    "def X(n,x):\n",
    "    for i in range(n):\n",
    "        x.append(\"x\"+str(i))\n",
    "    return x\n",
    "\n",
    "def input(n,x,a,b):\n",
    "    for i in range(n):\n",
    "        print(\"{} {} = {}\".format(a[i],x[i],b[i]))\n",
    "def gauss(n,x,a,b):\n",
    "    for i in range(n):\n",
    "        p = 1/a[i][i]\n",
    "        for j in range(i, n):\n",
    "            a[i][j] = p*a[i][j]\n",
    "        b[i] = p*b[i]\n",
    "        for k in range(i+1, n):\n",
    "            for j in range(i+1, n):\n",
    "                a[k][j] =a[k][j]-a[k][i]*a[i][j]\n",
    "            b[k] = b[k]-a[k][i]*b[i]\n",
    "        for j in range(i+1, n):\n",
    "            a[j][i] = a[j][i] - \\\n",
    "                a[j][i]/a[i][i]*a[i][i]\n",
    "    p = 1/a[n-1][n-1]\n",
    "    b[n-1] = p*b[n-1]\n",
    "    for i in range(n):\n",
    "        print(\"{} {} = {}\".format(a[i], x[i], b[i]))\n",
    "def resolution(n,x,a,b):\n",
    "    for i in range(n-1, -1, -1):\n",
    "        s = 0\n",
    "        for j in range(i, n):\n",
    "            s +=a[i][j]*b[j]\n",
    "        x[i]=(b[i]-s)\n",
    "\n",
    "def output(n,x,a,b):\n",
    "        for i in range(n):\n",
    "            print(\"{} {} = {}\".format(a[i],x[i],b[i]))"
   ]
  },
  {
   "cell_type": "code",
   "execution_count": 84,
   "id": "d27e6883",
   "metadata": {},
   "outputs": [
    {
     "name": "stdout",
     "output_type": "stream",
     "text": [
      "[4, 8, 12] x0 = 4\n",
      "[3, 8, 13] x1 = 5\n",
      "[2, 9, 18] x2 = 11\n",
      "\n",
      "[1.0, 2.0, 3.0] x0 = 1.0\n",
      "[0.0, 1.0, 2.0] x1 = 1.0\n",
      "[0.0, 0.0, 1.0] x2 = 2.0\n",
      "\n",
      "La resolution\n",
      "[1.0, 2.0, 3.0] -8.0 = 1.0\n",
      "[0.0, 1.0, 2.0] -4.0 = 1.0\n",
      "[0.0, 0.0, 1.0] 0.0 = 2.0\n"
     ]
    }
   ],
   "source": [
    "n=3\n",
    "x = []\n",
    "a = [[4, 8, 12], [3, 8, 13], [2, 9, 18]]\n",
    "b = [4, 5, 11]\n",
    "l=X(n,x)\n",
    "input(n,l,a,b)\n",
    "print(\"\")\n",
    "gauss(n,l,a,b)\n",
    "print(\"\")\n",
    "resolution(n,l,a,b)\n",
    "print(\"La resolution\")\n",
    "output(n,l,a,b)"
   ]
  },
  {
   "cell_type": "code",
   "execution_count": null,
   "id": "d202a0f2",
   "metadata": {},
   "outputs": [],
   "source": []
  },
  {
   "cell_type": "code",
   "execution_count": null,
   "id": "f4c09d44",
   "metadata": {},
   "outputs": [],
   "source": []
  }
 ],
 "metadata": {
  "kernelspec": {
   "display_name": "Python 3",
   "language": "python",
   "name": "python3"
  },
  "language_info": {
   "codemirror_mode": {
    "name": "ipython",
    "version": 3
   },
   "file_extension": ".py",
   "mimetype": "text/x-python",
   "name": "python",
   "nbconvert_exporter": "python",
   "pygments_lexer": "ipython3",
   "version": "3.8.8"
  }
 },
 "nbformat": 4,
 "nbformat_minor": 5
}
